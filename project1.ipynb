{
 "cells": [
  {
   "cell_type": "code",
   "execution_count": 69,
   "id": "102ad80a-d129-46c6-ac03-1a28c459daa0",
   "metadata": {},
   "outputs": [
    {
     "name": "stdout",
     "output_type": "stream",
     "text": [
      "[{'student_name': 'Sibel', 'note': 65}, {'student_name': 'Selma', 'note': 67}]\n",
      "[{'student_name': 'Sibel', 'note': 98}, {'student_name': 'Selma', 'note': 67}]\n",
      "[{'student_name': 'Selma', 'note': 67}]\n",
      "Student: Selma : note: 67\n",
      "67(the highest mark)  belongs to  Selma\n"
     ]
    }
   ],
   "source": [
    "students_notes=[]\n",
    "def add_students(student_name,note):\n",
    "  students_notes.append({\"student_name\":student_name,\"note\":note})\n",
    "  \n",
    "\n",
    "add_students(\"Sibel\",65) \n",
    "add_students(\"Selma\",67)\n",
    "print(students_notes)\n",
    "\n",
    "\n",
    "\n",
    "\n",
    "def updating_note(student_name,new_note):\n",
    " for student in students_notes:\n",
    "  if student[\"student_name\"]==student_name:\n",
    "     student[\"note\"]=new_note\n",
    "     return\n",
    " print(f\"{student_name}'s name you are looking for is not found\")\n",
    "\n",
    "\n",
    "updating_note(\"Sibel\",98) \n",
    "print(students_notes)\n",
    "\n",
    "\n",
    "\n",
    "def deleting(student_name):\n",
    "    global students_notes\n",
    "    students_notes=[student for student in students_notes if student[\"student_name\"]!=student_name]\n",
    "    print(students_notes)\n",
    "\n",
    "deleting(\"Sibel\")\n",
    "\n",
    "def displaying():\n",
    "    for student in students_notes:\n",
    "        \n",
    "     print(\"Student:\",student[\"student_name\"],\":\",\"note:\",student[\"note\"]) \n",
    "displaying()\n",
    "\n",
    "def finding_the_highest_mark():\n",
    " if not students_notes:\n",
    "    print(\"Student notes list is empty\")\n",
    "    \n",
    " thehighest_mark = float('-inf')\n",
    " thebeststudent=\"none\"\n",
    " for student in  students_notes:\n",
    "     studentname=student.get(\"student_name\",\"none\")\n",
    "     note=student.get(\"note\",float('-inf'))\n",
    "     \n",
    "     if note>thehighest_mark:\n",
    "   \n",
    "      thehighest_mark=note\n",
    "      thebeststudent=studentname   \n",
    " \n",
    " if  thebeststudent!=\"none\":\n",
    "     print(f\"{thehighest_mark}(the highest mark)  belongs to  {thebeststudent}\")\n",
    " else:\n",
    "     print(\"no valid info\")\n",
    "\n",
    "finding_the_highest_mark()"
   ]
  },
  {
   "cell_type": "code",
   "execution_count": null,
   "id": "644ad415-474d-4ba8-8a87-f97c6284a2e4",
   "metadata": {},
   "outputs": [],
   "source": []
  },
  {
   "cell_type": "code",
   "execution_count": null,
   "id": "b775299a-459c-41c0-9338-8572aef9f0f7",
   "metadata": {},
   "outputs": [],
   "source": []
  }
 ],
 "metadata": {
  "kernelspec": {
   "display_name": "Python 3 (ipykernel)",
   "language": "python",
   "name": "python3"
  },
  "language_info": {
   "codemirror_mode": {
    "name": "ipython",
    "version": 3
   },
   "file_extension": ".py",
   "mimetype": "text/x-python",
   "name": "python",
   "nbconvert_exporter": "python",
   "pygments_lexer": "ipython3",
   "version": "3.12.4"
  }
 },
 "nbformat": 4,
 "nbformat_minor": 5
}
